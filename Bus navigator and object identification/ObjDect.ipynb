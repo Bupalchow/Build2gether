{
 "cells": [
  {
   "cell_type": "code",
   "execution_count": null,
   "metadata": {},
   "outputs": [],
   "source": [
    "import socket\n",
    "import pyttsx3\n",
    "\n",
    "engine = pyttsx3.init()\n",
    "\n",
    "\n",
    "def speak(message):\n",
    "    engine.say(message)\n",
    "    engine.runAndWait()\n",
    "\n",
    "UDP_IP = \"0.0.0.0\"  \n",
    "UDP_PORT = 12345     \n",
    "\n",
    "sock = socket.socket(socket.AF_INET, socket.SOCK_DGRAM)\n",
    "sock.bind((UDP_IP, UDP_PORT))\n",
    "\n",
    "print(f\"Listening for UDP messages on port {UDP_PORT}...\")\n",
    "\n",
    "while True:\n",
    "    data, addr = sock.recvfrom(1024) \n",
    "    message = data.decode('utf-8')\n",
    "    \n",
    "    print(f\"Received message from {addr}: {message}\")\n",
    "    \n",
    "\n",
    "    speak(message)\n"
   ]
  }
 ],
 "metadata": {
  "language_info": {
   "name": "python"
  }
 },
 "nbformat": 4,
 "nbformat_minor": 2
}
